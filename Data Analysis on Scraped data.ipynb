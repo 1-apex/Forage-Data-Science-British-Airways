{
 "cells": [
  {
   "cell_type": "code",
   "execution_count": 1,
   "id": "16af708c",
   "metadata": {},
   "outputs": [],
   "source": [
    "import numpy as np\n",
    "import pandas as pd\n",
    "import matplotlib.pyplot as plt\n",
    "import seaborn as sns"
   ]
  },
  {
   "cell_type": "code",
   "execution_count": 2,
   "id": "65f211be",
   "metadata": {},
   "outputs": [],
   "source": [
    "df = pd.read_csv(\"Data/Reviews Data from British Airways.csv\")"
   ]
  },
  {
   "cell_type": "code",
   "execution_count": 3,
   "id": "77acdb06",
   "metadata": {},
   "outputs": [
    {
     "data": {
      "text/html": [
       "<div>\n",
       "<style scoped>\n",
       "    .dataframe tbody tr th:only-of-type {\n",
       "        vertical-align: middle;\n",
       "    }\n",
       "\n",
       "    .dataframe tbody tr th {\n",
       "        vertical-align: top;\n",
       "    }\n",
       "\n",
       "    .dataframe thead th {\n",
       "        text-align: right;\n",
       "    }\n",
       "</style>\n",
       "<table border=\"1\" class=\"dataframe\">\n",
       "  <thead>\n",
       "    <tr style=\"text-align: right;\">\n",
       "      <th></th>\n",
       "      <th>Unnamed: 0</th>\n",
       "      <th>Reviews</th>\n",
       "    </tr>\n",
       "  </thead>\n",
       "  <tbody>\n",
       "    <tr>\n",
       "      <th>0</th>\n",
       "      <td>0</td>\n",
       "      <td>Not Verified |  This was literally one of the ...</td>\n",
       "    </tr>\n",
       "    <tr>\n",
       "      <th>1</th>\n",
       "      <td>1</td>\n",
       "      <td>✅ Trip Verified |  The usual shambolic unfoldi...</td>\n",
       "    </tr>\n",
       "    <tr>\n",
       "      <th>2</th>\n",
       "      <td>2</td>\n",
       "      <td>Not Verified |  Lost my case and took 6 weeks ...</td>\n",
       "    </tr>\n",
       "    <tr>\n",
       "      <th>3</th>\n",
       "      <td>3</td>\n",
       "      <td>✅ Trip Verified |  The incoming and outgoing f...</td>\n",
       "    </tr>\n",
       "    <tr>\n",
       "      <th>4</th>\n",
       "      <td>4</td>\n",
       "      <td>✅ Trip Verified |  Back in December my family ...</td>\n",
       "    </tr>\n",
       "  </tbody>\n",
       "</table>\n",
       "</div>"
      ],
      "text/plain": [
       "   Unnamed: 0                                            Reviews\n",
       "0           0  Not Verified |  This was literally one of the ...\n",
       "1           1  ✅ Trip Verified |  The usual shambolic unfoldi...\n",
       "2           2  Not Verified |  Lost my case and took 6 weeks ...\n",
       "3           3  ✅ Trip Verified |  The incoming and outgoing f...\n",
       "4           4  ✅ Trip Verified |  Back in December my family ..."
      ]
     },
     "execution_count": 3,
     "metadata": {},
     "output_type": "execute_result"
    }
   ],
   "source": [
    "df.head()"
   ]
  },
  {
   "cell_type": "code",
   "execution_count": 4,
   "id": "7a19e1f6",
   "metadata": {},
   "outputs": [
    {
     "data": {
      "text/html": [
       "<div>\n",
       "<style scoped>\n",
       "    .dataframe tbody tr th:only-of-type {\n",
       "        vertical-align: middle;\n",
       "    }\n",
       "\n",
       "    .dataframe tbody tr th {\n",
       "        vertical-align: top;\n",
       "    }\n",
       "\n",
       "    .dataframe thead th {\n",
       "        text-align: right;\n",
       "    }\n",
       "</style>\n",
       "<table border=\"1\" class=\"dataframe\">\n",
       "  <thead>\n",
       "    <tr style=\"text-align: right;\">\n",
       "      <th></th>\n",
       "      <th>Reviews</th>\n",
       "    </tr>\n",
       "  </thead>\n",
       "  <tbody>\n",
       "    <tr>\n",
       "      <th>0</th>\n",
       "      <td>Not Verified |  This was literally one of the ...</td>\n",
       "    </tr>\n",
       "    <tr>\n",
       "      <th>1</th>\n",
       "      <td>✅ Trip Verified |  The usual shambolic unfoldi...</td>\n",
       "    </tr>\n",
       "    <tr>\n",
       "      <th>2</th>\n",
       "      <td>Not Verified |  Lost my case and took 6 weeks ...</td>\n",
       "    </tr>\n",
       "    <tr>\n",
       "      <th>3</th>\n",
       "      <td>✅ Trip Verified |  The incoming and outgoing f...</td>\n",
       "    </tr>\n",
       "    <tr>\n",
       "      <th>4</th>\n",
       "      <td>✅ Trip Verified |  Back in December my family ...</td>\n",
       "    </tr>\n",
       "  </tbody>\n",
       "</table>\n",
       "</div>"
      ],
      "text/plain": [
       "                                             Reviews\n",
       "0  Not Verified |  This was literally one of the ...\n",
       "1  ✅ Trip Verified |  The usual shambolic unfoldi...\n",
       "2  Not Verified |  Lost my case and took 6 weeks ...\n",
       "3  ✅ Trip Verified |  The incoming and outgoing f...\n",
       "4  ✅ Trip Verified |  Back in December my family ..."
      ]
     },
     "execution_count": 4,
     "metadata": {},
     "output_type": "execute_result"
    }
   ],
   "source": [
    "del(df['Unnamed: 0'])\n",
    "\n",
    "df.head()"
   ]
  },
  {
   "cell_type": "code",
   "execution_count": 5,
   "id": "69cd45e1",
   "metadata": {},
   "outputs": [
    {
     "name": "stderr",
     "output_type": "stream",
     "text": [
      "C:\\Users\\prath\\AppData\\Local\\Temp\\ipykernel_16776\\2856956275.py:11: SettingWithCopyWarning: \n",
      "A value is trying to be set on a copy of a slice from a DataFrame\n",
      "\n",
      "See the caveats in the documentation: https://pandas.pydata.org/pandas-docs/stable/user_guide/indexing.html#returning-a-view-versus-a-copy\n",
      "  df['Verified'][i] = 1\n"
     ]
    },
    {
     "name": "stdout",
     "output_type": "stream",
     "text": [
      "verified reviews :  736\n",
      "unverified reviews :  174\n"
     ]
    }
   ],
   "source": [
    "# getting the verified and unverified reviews from the dataset \n",
    "\n",
    "verified_reviews = 0\n",
    "unverified_reviews = 0\n",
    "\n",
    "df['Verified'] = 0\n",
    "\n",
    "for i in range(0, len(df['Reviews'])):\n",
    "    if df['Reviews'][i][0] == '✅':\n",
    "        verified_reviews += 1\n",
    "        df['Verified'][i] = 1\n",
    "    else:\n",
    "        unverified_reviews += 1\n",
    "        \n",
    "print('verified reviews : ', verified_reviews)\n",
    "print('unverified reviews : ', unverified_reviews)"
   ]
  },
  {
   "cell_type": "code",
   "execution_count": 6,
   "id": "fa6e4ca8",
   "metadata": {},
   "outputs": [
    {
     "data": {
      "text/html": [
       "<div>\n",
       "<style scoped>\n",
       "    .dataframe tbody tr th:only-of-type {\n",
       "        vertical-align: middle;\n",
       "    }\n",
       "\n",
       "    .dataframe tbody tr th {\n",
       "        vertical-align: top;\n",
       "    }\n",
       "\n",
       "    .dataframe thead th {\n",
       "        text-align: right;\n",
       "    }\n",
       "</style>\n",
       "<table border=\"1\" class=\"dataframe\">\n",
       "  <thead>\n",
       "    <tr style=\"text-align: right;\">\n",
       "      <th></th>\n",
       "      <th>Reviews</th>\n",
       "      <th>Verified</th>\n",
       "    </tr>\n",
       "  </thead>\n",
       "  <tbody>\n",
       "    <tr>\n",
       "      <th>0</th>\n",
       "      <td>Not Verified |  This was literally one of the ...</td>\n",
       "      <td>0</td>\n",
       "    </tr>\n",
       "    <tr>\n",
       "      <th>1</th>\n",
       "      <td>✅ Trip Verified |  The usual shambolic unfoldi...</td>\n",
       "      <td>1</td>\n",
       "    </tr>\n",
       "    <tr>\n",
       "      <th>2</th>\n",
       "      <td>Not Verified |  Lost my case and took 6 weeks ...</td>\n",
       "      <td>0</td>\n",
       "    </tr>\n",
       "    <tr>\n",
       "      <th>3</th>\n",
       "      <td>✅ Trip Verified |  The incoming and outgoing f...</td>\n",
       "      <td>1</td>\n",
       "    </tr>\n",
       "    <tr>\n",
       "      <th>4</th>\n",
       "      <td>✅ Trip Verified |  Back in December my family ...</td>\n",
       "      <td>1</td>\n",
       "    </tr>\n",
       "  </tbody>\n",
       "</table>\n",
       "</div>"
      ],
      "text/plain": [
       "                                             Reviews  Verified\n",
       "0  Not Verified |  This was literally one of the ...         0\n",
       "1  ✅ Trip Verified |  The usual shambolic unfoldi...         1\n",
       "2  Not Verified |  Lost my case and took 6 weeks ...         0\n",
       "3  ✅ Trip Verified |  The incoming and outgoing f...         1\n",
       "4  ✅ Trip Verified |  Back in December my family ...         1"
      ]
     },
     "execution_count": 6,
     "metadata": {},
     "output_type": "execute_result"
    }
   ],
   "source": [
    "df.head()"
   ]
  },
  {
   "cell_type": "code",
   "execution_count": 25,
   "id": "eb8d7a42",
   "metadata": {},
   "outputs": [
    {
     "data": {
      "image/png": "[encoded data removed]",
      "text/plain": [
       "<Figure size 432x288 with 1 Axes>"
      ]
     },
     "metadata": {},
     "output_type": "display_data"
    }
   ],
   "source": [
    "df2 = pd.DataFrame({'review_type': ['Verified', 'Unverified'],\n",
    "                   'count': [verified_reviews, unverified_reviews]})\n",
    "\n",
    "# create a pie chart\n",
    "plt.pie(df2['count'], labels=df2['review_type'], autopct='%1.1f%%')\n",
    "\n",
    "# add title\n",
    "plt.title('Distribution of Reviews by Type of Users')\n",
    "\n",
    "# show the plot\n",
    "plt.show()"
   ]
  },
  {
   "cell_type": "code",
   "execution_count": 7,
   "id": "c7af3164",
   "metadata": {},
   "outputs": [],
   "source": [
    "# performing the sentiment analysis on the review\n",
    "from vaderSentiment.vaderSentiment import SentimentIntensityAnalyzer"
   ]
  },
  {
   "cell_type": "code",
   "execution_count": 8,
   "id": "b84060c2",
   "metadata": {},
   "outputs": [],
   "source": [
    "sentiment = SentimentIntensityAnalyzer()"
   ]
  },
  {
   "cell_type": "code",
   "execution_count": 9,
   "id": "f9c23533",
   "metadata": {},
   "outputs": [
    {
     "name": "stdout",
     "output_type": "stream",
     "text": [
      "{'neg': 0.0, 'neu': 0.541, 'pos': 0.459, 'compound': 0.9162}\n"
     ]
    }
   ],
   "source": [
    "sent1 = 'Very good taste, best of the best taste and dishes, world famous cuisine and world class taste'\n",
    "\n",
    "res1 = sentiment.polarity_scores(sent1)\n",
    "\n",
    "print(res1)"
   ]
  },
  {
   "cell_type": "code",
   "execution_count": 10,
   "id": "351e56c3",
   "metadata": {},
   "outputs": [
    {
     "data": {
      "text/html": [
       "<div>\n",
       "<style scoped>\n",
       "    .dataframe tbody tr th:only-of-type {\n",
       "        vertical-align: middle;\n",
       "    }\n",
       "\n",
       "    .dataframe tbody tr th {\n",
       "        vertical-align: top;\n",
       "    }\n",
       "\n",
       "    .dataframe thead th {\n",
       "        text-align: right;\n",
       "    }\n",
       "</style>\n",
       "<table border=\"1\" class=\"dataframe\">\n",
       "  <thead>\n",
       "    <tr style=\"text-align: right;\">\n",
       "      <th></th>\n",
       "      <th>Reviews</th>\n",
       "      <th>Verified</th>\n",
       "      <th>Negative</th>\n",
       "      <th>Neutral</th>\n",
       "      <th>Positive</th>\n",
       "      <th>Compound</th>\n",
       "    </tr>\n",
       "  </thead>\n",
       "  <tbody>\n",
       "    <tr>\n",
       "      <th>0</th>\n",
       "      <td>Not Verified |  This was literally one of the ...</td>\n",
       "      <td>0</td>\n",
       "      <td>0</td>\n",
       "      <td>0</td>\n",
       "      <td>0</td>\n",
       "      <td>0</td>\n",
       "    </tr>\n",
       "    <tr>\n",
       "      <th>1</th>\n",
       "      <td>✅ Trip Verified |  The usual shambolic unfoldi...</td>\n",
       "      <td>1</td>\n",
       "      <td>0</td>\n",
       "      <td>0</td>\n",
       "      <td>0</td>\n",
       "      <td>0</td>\n",
       "    </tr>\n",
       "    <tr>\n",
       "      <th>2</th>\n",
       "      <td>Not Verified |  Lost my case and took 6 weeks ...</td>\n",
       "      <td>0</td>\n",
       "      <td>0</td>\n",
       "      <td>0</td>\n",
       "      <td>0</td>\n",
       "      <td>0</td>\n",
       "    </tr>\n",
       "    <tr>\n",
       "      <th>3</th>\n",
       "      <td>✅ Trip Verified |  The incoming and outgoing f...</td>\n",
       "      <td>1</td>\n",
       "      <td>0</td>\n",
       "      <td>0</td>\n",
       "      <td>0</td>\n",
       "      <td>0</td>\n",
       "    </tr>\n",
       "    <tr>\n",
       "      <th>4</th>\n",
       "      <td>✅ Trip Verified |  Back in December my family ...</td>\n",
       "      <td>1</td>\n",
       "      <td>0</td>\n",
       "      <td>0</td>\n",
       "      <td>0</td>\n",
       "      <td>0</td>\n",
       "    </tr>\n",
       "  </tbody>\n",
       "</table>\n",
       "</div>"
      ],
      "text/plain": [
       "                                             Reviews  Verified  Negative  \\\n",
       "0  Not Verified |  This was literally one of the ...         0         0   \n",
       "1  ✅ Trip Verified |  The usual shambolic unfoldi...         1         0   \n",
       "2  Not Verified |  Lost my case and took 6 weeks ...         0         0   \n",
       "3  ✅ Trip Verified |  The incoming and outgoing f...         1         0   \n",
       "4  ✅ Trip Verified |  Back in December my family ...         1         0   \n",
       "\n",
       "   Neutral  Positive  Compound  \n",
       "0        0         0         0  \n",
       "1        0         0         0  \n",
       "2        0         0         0  \n",
       "3        0         0         0  \n",
       "4        0         0         0  "
      ]
     },
     "execution_count": 10,
     "metadata": {},
     "output_type": "execute_result"
    }
   ],
   "source": [
    "df['Negative'] = 0\n",
    "df['Neutral'] = 0\n",
    "df['Positive'] = 0\n",
    "df['Compound'] = 0\n",
    "df.head()"
   ]
  },
  {
   "cell_type": "code",
   "execution_count": 11,
   "id": "883efb20",
   "metadata": {},
   "outputs": [
    {
     "name": "stderr",
     "output_type": "stream",
     "text": [
      "C:\\Users\\prath\\AppData\\Local\\Temp\\ipykernel_16776\\3151981616.py:6: SettingWithCopyWarning: \n",
      "A value is trying to be set on a copy of a slice from a DataFrame\n",
      "\n",
      "See the caveats in the documentation: https://pandas.pydata.org/pandas-docs/stable/user_guide/indexing.html#returning-a-view-versus-a-copy\n",
      "  df['Negative'][i] = res['neg']\n",
      "C:\\Users\\prath\\AppData\\Local\\Temp\\ipykernel_16776\\3151981616.py:7: SettingWithCopyWarning: \n",
      "A value is trying to be set on a copy of a slice from a DataFrame\n",
      "\n",
      "See the caveats in the documentation: https://pandas.pydata.org/pandas-docs/stable/user_guide/indexing.html#returning-a-view-versus-a-copy\n",
      "  df['Neutral'][i] = res['neu']\n",
      "C:\\Users\\prath\\AppData\\Local\\Temp\\ipykernel_16776\\3151981616.py:8: SettingWithCopyWarning: \n",
      "A value is trying to be set on a copy of a slice from a DataFrame\n",
      "\n",
      "See the caveats in the documentation: https://pandas.pydata.org/pandas-docs/stable/user_guide/indexing.html#returning-a-view-versus-a-copy\n",
      "  df['Positive'][i] = res['pos']\n",
      "C:\\Users\\prath\\AppData\\Local\\Temp\\ipykernel_16776\\3151981616.py:9: SettingWithCopyWarning: \n",
      "A value is trying to be set on a copy of a slice from a DataFrame\n",
      "\n",
      "See the caveats in the documentation: https://pandas.pydata.org/pandas-docs/stable/user_guide/indexing.html#returning-a-view-versus-a-copy\n",
      "  df['Compound'][i] = res['compound']\n"
     ]
    }
   ],
   "source": [
    "for i in range(0, len(df)):\n",
    "    review = df['Reviews'][i]\n",
    "    \n",
    "    res = sentiment.polarity_scores(review)\n",
    "    \n",
    "    df['Negative'][i] = res['neg']\n",
    "    df['Neutral'][i] = res['neu']\n",
    "    df['Positive'][i] = res['pos']\n",
    "    df['Compound'][i] = res['compound']"
   ]
  },
  {
   "cell_type": "code",
   "execution_count": 12,
   "id": "d7428c0e",
   "metadata": {},
   "outputs": [
    {
     "data": {
      "text/html": [
       "<div>\n",
       "<style scoped>\n",
       "    .dataframe tbody tr th:only-of-type {\n",
       "        vertical-align: middle;\n",
       "    }\n",
       "\n",
       "    .dataframe tbody tr th {\n",
       "        vertical-align: top;\n",
       "    }\n",
       "\n",
       "    .dataframe thead th {\n",
       "        text-align: right;\n",
       "    }\n",
       "</style>\n",
       "<table border=\"1\" class=\"dataframe\">\n",
       "  <thead>\n",
       "    <tr style=\"text-align: right;\">\n",
       "      <th></th>\n",
       "      <th>Reviews</th>\n",
       "      <th>Verified</th>\n",
       "      <th>Negative</th>\n",
       "      <th>Neutral</th>\n",
       "      <th>Positive</th>\n",
       "      <th>Compound</th>\n",
       "    </tr>\n",
       "  </thead>\n",
       "  <tbody>\n",
       "    <tr>\n",
       "      <th>0</th>\n",
       "      <td>Not Verified |  This was literally one of the ...</td>\n",
       "      <td>0</td>\n",
       "      <td>0.135</td>\n",
       "      <td>0.817</td>\n",
       "      <td>0.049</td>\n",
       "      <td>-0.9253</td>\n",
       "    </tr>\n",
       "    <tr>\n",
       "      <th>1</th>\n",
       "      <td>✅ Trip Verified |  The usual shambolic unfoldi...</td>\n",
       "      <td>1</td>\n",
       "      <td>0.093</td>\n",
       "      <td>0.850</td>\n",
       "      <td>0.057</td>\n",
       "      <td>-0.9764</td>\n",
       "    </tr>\n",
       "    <tr>\n",
       "      <th>2</th>\n",
       "      <td>Not Verified |  Lost my case and took 6 weeks ...</td>\n",
       "      <td>0</td>\n",
       "      <td>0.011</td>\n",
       "      <td>0.976</td>\n",
       "      <td>0.013</td>\n",
       "      <td>0.1341</td>\n",
       "    </tr>\n",
       "    <tr>\n",
       "      <th>3</th>\n",
       "      <td>✅ Trip Verified |  The incoming and outgoing f...</td>\n",
       "      <td>1</td>\n",
       "      <td>0.166</td>\n",
       "      <td>0.789</td>\n",
       "      <td>0.045</td>\n",
       "      <td>-0.9263</td>\n",
       "    </tr>\n",
       "    <tr>\n",
       "      <th>4</th>\n",
       "      <td>✅ Trip Verified |  Back in December my family ...</td>\n",
       "      <td>1</td>\n",
       "      <td>0.043</td>\n",
       "      <td>0.920</td>\n",
       "      <td>0.037</td>\n",
       "      <td>-0.4196</td>\n",
       "    </tr>\n",
       "  </tbody>\n",
       "</table>\n",
       "</div>"
      ],
      "text/plain": [
       "                                             Reviews  Verified  Negative  \\\n",
       "0  Not Verified |  This was literally one of the ...         0     0.135   \n",
       "1  ✅ Trip Verified |  The usual shambolic unfoldi...         1     0.093   \n",
       "2  Not Verified |  Lost my case and took 6 weeks ...         0     0.011   \n",
       "3  ✅ Trip Verified |  The incoming and outgoing f...         1     0.166   \n",
       "4  ✅ Trip Verified |  Back in December my family ...         1     0.043   \n",
       "\n",
       "   Neutral  Positive  Compound  \n",
       "0    0.817     0.049   -0.9253  \n",
       "1    0.850     0.057   -0.9764  \n",
       "2    0.976     0.013    0.1341  \n",
       "3    0.789     0.045   -0.9263  \n",
       "4    0.920     0.037   -0.4196  "
      ]
     },
     "execution_count": 12,
     "metadata": {},
     "output_type": "execute_result"
    }
   ],
   "source": [
    "df.head()"
   ]
  },
  {
   "cell_type": "code",
   "execution_count": 13,
   "id": "c8972a82",
   "metadata": {},
   "outputs": [],
   "source": [
    "# rounding up the values for better analysis\n",
    "df['Compound'] = np.round(df['Compound'])"
   ]
  },
  {
   "cell_type": "code",
   "execution_count": 14,
   "id": "4bf9e8aa",
   "metadata": {},
   "outputs": [
    {
     "data": {
      "text/html": [
       "<div>\n",
       "<style scoped>\n",
       "    .dataframe tbody tr th:only-of-type {\n",
       "        vertical-align: middle;\n",
       "    }\n",
       "\n",
       "    .dataframe tbody tr th {\n",
       "        vertical-align: top;\n",
       "    }\n",
       "\n",
       "    .dataframe thead th {\n",
       "        text-align: right;\n",
       "    }\n",
       "</style>\n",
       "<table border=\"1\" class=\"dataframe\">\n",
       "  <thead>\n",
       "    <tr style=\"text-align: right;\">\n",
       "      <th></th>\n",
       "      <th>Reviews</th>\n",
       "      <th>Verified</th>\n",
       "      <th>Negative</th>\n",
       "      <th>Neutral</th>\n",
       "      <th>Positive</th>\n",
       "      <th>Compound</th>\n",
       "    </tr>\n",
       "  </thead>\n",
       "  <tbody>\n",
       "    <tr>\n",
       "      <th>0</th>\n",
       "      <td>Not Verified |  This was literally one of the ...</td>\n",
       "      <td>0</td>\n",
       "      <td>0.135</td>\n",
       "      <td>0.817</td>\n",
       "      <td>0.049</td>\n",
       "      <td>-1.0</td>\n",
       "    </tr>\n",
       "    <tr>\n",
       "      <th>1</th>\n",
       "      <td>✅ Trip Verified |  The usual shambolic unfoldi...</td>\n",
       "      <td>1</td>\n",
       "      <td>0.093</td>\n",
       "      <td>0.850</td>\n",
       "      <td>0.057</td>\n",
       "      <td>-1.0</td>\n",
       "    </tr>\n",
       "    <tr>\n",
       "      <th>2</th>\n",
       "      <td>Not Verified |  Lost my case and took 6 weeks ...</td>\n",
       "      <td>0</td>\n",
       "      <td>0.011</td>\n",
       "      <td>0.976</td>\n",
       "      <td>0.013</td>\n",
       "      <td>0.0</td>\n",
       "    </tr>\n",
       "    <tr>\n",
       "      <th>3</th>\n",
       "      <td>✅ Trip Verified |  The incoming and outgoing f...</td>\n",
       "      <td>1</td>\n",
       "      <td>0.166</td>\n",
       "      <td>0.789</td>\n",
       "      <td>0.045</td>\n",
       "      <td>-1.0</td>\n",
       "    </tr>\n",
       "    <tr>\n",
       "      <th>4</th>\n",
       "      <td>✅ Trip Verified |  Back in December my family ...</td>\n",
       "      <td>1</td>\n",
       "      <td>0.043</td>\n",
       "      <td>0.920</td>\n",
       "      <td>0.037</td>\n",
       "      <td>-0.0</td>\n",
       "    </tr>\n",
       "    <tr>\n",
       "      <th>5</th>\n",
       "      <td>✅ Trip Verified |  As usual the flight is dela...</td>\n",
       "      <td>1</td>\n",
       "      <td>0.023</td>\n",
       "      <td>0.949</td>\n",
       "      <td>0.028</td>\n",
       "      <td>0.0</td>\n",
       "    </tr>\n",
       "    <tr>\n",
       "      <th>6</th>\n",
       "      <td>✅ Trip Verified | A short BA euro trip and thi...</td>\n",
       "      <td>1</td>\n",
       "      <td>0.015</td>\n",
       "      <td>0.740</td>\n",
       "      <td>0.245</td>\n",
       "      <td>1.0</td>\n",
       "    </tr>\n",
       "    <tr>\n",
       "      <th>7</th>\n",
       "      <td>Not Verified |  We are flying Business class f...</td>\n",
       "      <td>0</td>\n",
       "      <td>0.033</td>\n",
       "      <td>0.944</td>\n",
       "      <td>0.023</td>\n",
       "      <td>-0.0</td>\n",
       "    </tr>\n",
       "    <tr>\n",
       "      <th>8</th>\n",
       "      <td>✅ Trip Verified |  I am in Australia and on Fr...</td>\n",
       "      <td>1</td>\n",
       "      <td>0.054</td>\n",
       "      <td>0.940</td>\n",
       "      <td>0.007</td>\n",
       "      <td>-1.0</td>\n",
       "    </tr>\n",
       "    <tr>\n",
       "      <th>9</th>\n",
       "      <td>✅ Trip Verified |  At 7.54 am on the day of tr...</td>\n",
       "      <td>1</td>\n",
       "      <td>0.136</td>\n",
       "      <td>0.787</td>\n",
       "      <td>0.077</td>\n",
       "      <td>-1.0</td>\n",
       "    </tr>\n",
       "  </tbody>\n",
       "</table>\n",
       "</div>"
      ],
      "text/plain": [
       "                                             Reviews  Verified  Negative  \\\n",
       "0  Not Verified |  This was literally one of the ...         0     0.135   \n",
       "1  ✅ Trip Verified |  The usual shambolic unfoldi...         1     0.093   \n",
       "2  Not Verified |  Lost my case and took 6 weeks ...         0     0.011   \n",
       "3  ✅ Trip Verified |  The incoming and outgoing f...         1     0.166   \n",
       "4  ✅ Trip Verified |  Back in December my family ...         1     0.043   \n",
       "5  ✅ Trip Verified |  As usual the flight is dela...         1     0.023   \n",
       "6  ✅ Trip Verified | A short BA euro trip and thi...         1     0.015   \n",
       "7  Not Verified |  We are flying Business class f...         0     0.033   \n",
       "8  ✅ Trip Verified |  I am in Australia and on Fr...         1     0.054   \n",
       "9  ✅ Trip Verified |  At 7.54 am on the day of tr...         1     0.136   \n",
       "\n",
       "   Neutral  Positive  Compound  \n",
       "0    0.817     0.049      -1.0  \n",
       "1    0.850     0.057      -1.0  \n",
       "2    0.976     0.013       0.0  \n",
       "3    0.789     0.045      -1.0  \n",
       "4    0.920     0.037      -0.0  \n",
       "5    0.949     0.028       0.0  \n",
       "6    0.740     0.245       1.0  \n",
       "7    0.944     0.023      -0.0  \n",
       "8    0.940     0.007      -1.0  \n",
       "9    0.787     0.077      -1.0  "
      ]
     },
     "execution_count": 14,
     "metadata": {},
     "output_type": "execute_result"
    }
   ],
   "source": [
    "df.head(10)"
   ]
  },
  {
   "cell_type": "code",
   "execution_count": 15,
   "id": "81bda62c",
   "metadata": {},
   "outputs": [
    {
     "name": "stderr",
     "output_type": "stream",
     "text": [
      "C:\\Users\\prath\\anaconda3\\lib\\site-packages\\seaborn\\_decorators.py:36: FutureWarning: Pass the following variables as keyword args: x, y. From version 0.12, the only valid positional argument will be `data`, and passing other arguments without an explicit keyword will result in an error or misinterpretation.\n",
      "  warnings.warn(\n"
     ]
    },
    {
     "data": {
      "text/plain": [
       "Text(0.5, 1.0, 'Revies based on Analysis')"
      ]
     },
     "execution_count": 15,
     "metadata": {},
     "output_type": "execute_result"
    },
    {
     "data": {
      "image/png": "[encoded data removed]",
      "text/plain": [
       "<Figure size 432x288 with 1 Axes>"
      ]
     },
     "metadata": {
      "needs_background": "light"
     },
     "output_type": "display_data"
    }
   ],
   "source": [
    "sns.scatterplot(df['Negative'], df['Positive'], hue=df['Neutral'])\n",
    "plt.xlabel('Negative')\n",
    "plt.ylabel('Positive')\n",
    "plt.title('Revies based on Analysis')"
   ]
  },
  {
   "cell_type": "code",
   "execution_count": 16,
   "id": "48cc6507",
   "metadata": {
    "scrolled": true
   },
   "outputs": [
    {
     "data": {
      "image/png": "[encoded data removed]",
      "text/plain": [
       "<Figure size 432x288 with 1 Axes>"
      ]
     },
     "metadata": {
      "needs_background": "light"
     },
     "output_type": "display_data"
    }
   ],
   "source": [
    "df2 = pd.DataFrame({'review_type': ['Verified', 'Unverified'],\n",
    "                   'count': [verified_reviews, unverified_reviews]})\n",
    "\n",
    "# create a bar chart\n",
    "plt.bar(df2['review_type'], df2['count'])\n",
    "\n",
    "# add labels and title\n",
    "plt.xlabel('Review Types')\n",
    "plt.ylabel('Number of Reviews')\n",
    "plt.title('Distribution of Reviews by Type of Users')\n",
    "\n",
    "# show the plot\n",
    "plt.show()"
   ]
  },
  {
   "cell_type": "code",
   "execution_count": 49,
   "id": "6549b059",
   "metadata": {},
   "outputs": [
    {
     "name": "stdout",
     "output_type": "stream",
     "text": [
      "Positive :  400\n",
      "Negative :  323\n",
      "Neutral :  187\n",
      "\n",
      "Verified Positive :  327\n",
      "Unverified Positive :  73\n",
      "Verified Negative :  266\n",
      "Unverified Negative :  57\n"
     ]
    }
   ],
   "source": [
    "positive_reviews = (df['Compound'] == 1).sum()\n",
    "negative_reviews = (df['Compound'] == -1).sum()\n",
    "neutral_reviews = (df['Compound'] == 0).sum()\n",
    "\n",
    "print('Positive : ', positive_reviews)\n",
    "print('Negative : ', negative_reviews)\n",
    "print('Neutral : ', neutral_reviews)\n",
    "\n",
    "verified_positive = 0\n",
    "verified_negative = 0\n",
    "unverified_positive = 0\n",
    "unverified_negative = 0\n",
    "for i in range(0, len(df)):\n",
    "    if df['Compound'][i] == 1 and df['Verified'][i] == 1:\n",
    "        verified_positive += 1\n",
    "    if df['Compound'][i] == 1 and df['Verified'][i] == 0:\n",
    "        unverified_positive += 1\n",
    "    if df['Compound'][i] == -1 and df['Verified'][i] == 1:\n",
    "        verified_negative += 1\n",
    "    if df['Compound'][i] == -1 and df['Verified'][i] == 0:\n",
    "        unverified_negative += 1\n",
    "\n",
    "print('')\n",
    "print('Verified Positive : ', verified_positive)\n",
    "print('Unverified Positive : ', unverified_positive)\n",
    "\n",
    "print('Verified Negative : ', verified_negative)\n",
    "print('Unverified Negative : ', unverified_negative)"
   ]
  },
  {
   "cell_type": "code",
   "execution_count": 18,
   "id": "d8ed9dbc",
   "metadata": {},
   "outputs": [
    {
     "data": {
      "image/png": "[encoded data removed]",
      "text/plain": [
       "<Figure size 432x288 with 1 Axes>"
      ]
     },
     "metadata": {
      "needs_background": "light"
     },
     "output_type": "display_data"
    }
   ],
   "source": [
    "df1 = pd.DataFrame({'rating': ['Negative', 'Neutral', 'Positive'],\n",
    "                   'count': [negative_reviews, neutral_reviews, positive_reviews]})\n",
    "\n",
    "# create a bar chart\n",
    "plt.bar(df1['rating'], df1['count'])\n",
    "\n",
    "# add labels and title\n",
    "plt.xlabel('Rating')\n",
    "plt.ylabel('Number of Reviews')\n",
    "plt.title('Distribution of Reviews by Rating')\n",
    "\n",
    "# show the plot\n",
    "plt.show()"
   ]
  },
  {
   "cell_type": "code",
   "execution_count": 21,
   "id": "17f545eb",
   "metadata": {},
   "outputs": [],
   "source": [
    "df.to_csv('Updated Reviews Data.csv')\n",
    "df.to_excel('Updated Reviews Data.xlsx')"
   ]
  },
  {
   "cell_type": "code",
   "execution_count": 50,
   "id": "9e8c61fa",
   "metadata": {},
   "outputs": [
    {
     "data": {
      "image/png": "[encoded data removed]",
      "text/plain": [
       "<Figure size 432x288 with 1 Axes>"
      ]
     },
     "metadata": {},
     "output_type": "display_data"
    }
   ],
   "source": [
    "df1 = pd.DataFrame({'rating': ['Verified Positive', 'Verified Negative', 'Unverified Positive', 'Unverified Negative'],\n",
    "                   'count': [verified_positive, verified_negative, unverified_positive, unverified_negative]})\n",
    "\n",
    "# create a bar chart\n",
    "plt.pie(df1['count'], labels=df1['rating'], autopct='%1.1f%%')\n",
    "\n",
    "# add labels and title\n",
    "plt.title('Distribution of Reviews by Rating')\n",
    "\n",
    "# show the plot\n",
    "plt.show()"
   ]
  },
  {
   "cell_type": "code",
   "execution_count": null,
   "id": "199520ff",
   "metadata": {},
   "outputs": [],
   "source": []
  }
 ],
 "metadata": {
  "kernelspec": {
   "display_name": "Python 3 (ipykernel)",
   "language": "python",
   "name": "python3"
  },
  "language_info": {
   "codemirror_mode": {
    "name": "ipython",
    "version": 3
   },
   "file_extension": ".py",
   "mimetype": "text/x-python",
   "name": "python",
   "nbconvert_exporter": "python",
   "pygments_lexer": "ipython3",
   "version": "3.9.12"
  }
 },
 "nbformat": 4,
 "nbformat_minor": 5
}
